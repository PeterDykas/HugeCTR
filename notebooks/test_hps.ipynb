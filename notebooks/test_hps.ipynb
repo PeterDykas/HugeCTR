{
 "cells": [
  {
   "cell_type": "markdown",
   "id": "2961ee55",
   "metadata": {},
   "source": [
    "<img src=\"http://developer.download.nvidia.com/compute/machine-learning/frameworks/nvidia_logo.png\" style=\"width: 90px; float: right;\">\n",
    "\n",
    "# Hierarchical Parameter Server Demo"
   ]
  },
  {
   "cell_type": "markdown",
   "id": "25c1747e",
   "metadata": {},
   "source": [
    "## Overview\n",
    "\n",
    "In HugeCTR version 3.5, we provide Python APIs for embedding table lookup with [HugeCTR Hierarchical Parameter Server (HPS)](https://nvidia-merlin.github.io/HugeCTR/master/hugectr_core_features.html#hierarchical-parameter-server)\n",
    "HPS supports different database backends and GPU embedding caches.\n",
    "\n",
    "This notebook demonstrates how to use HPS with HugeCTR Python APIs. Without loss of generality, the HPS APIs are utilized together with the ONNX Runtime APIs to create an ensemble inference model, where HPS is responsible for embedding table lookup while the ONNX model takes charge of feed forward of dense neural networks."
   ]
  },
  {
   "cell_type": "markdown",
   "id": "c420aed2",
   "metadata": {},
   "source": [
    "## Installation\n",
    "\n",
    "### Get HugeCTR from NGC\n",
    "\n",
    "The HugeCTR Python module is preinstalled in the 22.05 and later [Merlin Training Container](https://catalog.ngc.nvidia.com/orgs/nvidia/teams/merlin/containers/merlin-training): `nvcr.io/nvidia/merlin/merlin-training:22.05`.\n",
    "\n",
    "You can check the existence of required libraries by running the following Python code after launching this container.\n",
    "\n",
    "```bash\n",
    "$ python3 -c \"import hugectr\"\n",
    "```\n",
    "\n",
    "**Note**: This Python module contains both training APIs and offline inference APIs. For online inference with Triton, please refer to [HugeCTR Backend](https://github.com/triton-inference-server/hugectr_backend).\n",
    "\n",
    "> If you prefer to build HugeCTR from the source code instead of using the NGC container, please refer to the\n",
    "> [How to Start Your Development](https://nvidia-merlin.github.io/HugeCTR/master/hugectr_contributor_guide.html#how-to-start-your-development)\n",
    "> documentation."
   ]
  },
  {
   "cell_type": "markdown",
   "id": "d6ca5759",
   "metadata": {},
   "source": [
    "## Data Generation\n",
    "\n",
    "HugeCTR provides a tool to generate synthetic datasets. The [Data Generator](https://nvidia-merlin.github.io/HugeCTR/master/api/python_interface.html#data-generator-api) is capable of generating datasets of different file formats and different distributions. We will generate one-hot Parquet datasets with power-law distribution for this notebook:"
   ]
  },
  {
   "cell_type": "markdown",
   "id": "fc51dd73",
   "metadata": {},
   "source": [
    "## Train from Scratch\n",
    "\n",
    "We can train fom scratch by performing the following steps with Python APIs:\n",
    "\n",
    "1. Create the solver, reader and optimizer, then initialize the model.\n",
    "2. Construct the model graph by adding input, sparse embedding and dense layers in order.\n",
    "3. Compile the model and have an overview of the model graph.\n",
    "4. Dump the model graph to the JSON file.\n",
    "5. Fit the model, save the model weights and optimizer states implicitly.\n",
    "6. Dump one batch of evaluation results to files."
   ]
  },
  {
   "cell_type": "markdown",
   "id": "07ab2648",
   "metadata": {},
   "source": [
    "## Convert HugeCTR to ONNX\n",
    "\n",
    "We will convert the saved HugeCTR models to ONNX using the HugeCTR to ONNX Converter. For more information about the converter, refer to the README in the [onnx_converter](https://github.com/NVIDIA-Merlin/HugeCTR/tree/master/onnx_converter) directory of the repository.\n",
    "\n",
    "For the sake of double checking the correctness, we will investigate both cases of conversion depending on whether or not to convert the sparse embedding models."
   ]
  },
  {
   "cell_type": "code",
   "execution_count": 5,
   "id": "f1650d32",
   "metadata": {},
   "outputs": [
    {
     "name": "stdout",
     "output_type": "stream",
     "text": [
      "[HCTR][11:17:13][WARNING][RK0][main]: default_value_for_each_table.size() is not equal to the number of embedding tables\n",
      "[HCTR][11:17:13][INFO][RK0][main]: Creating ParallelHashMap CPU database backend...\n",
      "[HCTR][11:17:13][INFO][RK0][main]: Created parallel (16 partitions) blank database backend in local memory!\n",
      "[HCTR][11:17:13][INFO][RK0][main]: Volatile DB: initial cache rate = 1\n",
      "[HCTR][11:17:13][INFO][RK0][main]: Volatile DB: cache missed embeddings = 0\n",
      "[HCTR][11:17:13][INFO][RK0][main]: Table: hps_et.hps_demo.sparse_embedding1; cached 15749 / 15749 embeddings in volatile database (ParallelHashMap); load: 15749 / 18446744073709551615 (0.00%).\n",
      "[HCTR][11:17:13][INFO][RK0][main]: Table: hps_et.hps_demo.sparse_embedding2; cached 15781 / 15781 embeddings in volatile database (ParallelHashMap); load: 15781 / 18446744073709551615 (0.00%).\n",
      "[HCTR][11:17:13][DEBUG][RK0][main]: Real-time subscribers created!\n",
      "[HCTR][11:17:13][INFO][RK0][main]: Create embedding cache in device 0.\n",
      "[HCTR][11:17:13][INFO][RK0][main]: Use GPU embedding cache: True, cache size percentage: 0.500000\n",
      "[HCTR][11:17:13][INFO][RK0][main]: Configured cache hit rate threshold: 1.000000\n",
      "[HCTR][11:17:13][INFO][RK0][main]: Create inference session on device: 0\n",
      "[HCTR][11:17:13][INFO][RK0][main]: Model name: hps_demo\n",
      "[HCTR][11:17:13][INFO][RK0][main]: Number of embedding tables: 2\n",
      "[HCTR][11:17:13][INFO][RK0][main]: Use I64 input key: True\n",
      "ground_truth:  [0.456111 0.417843 0.428037 ... 0.336745 0.53599  0.508711]\n",
      "pred:  [[0.45611122]\n",
      " [0.4178428 ]\n",
      " [0.42803708]\n",
      " ...\n",
      " [0.3367453 ]\n",
      " [0.53599   ]\n",
      " [0.5087108 ]]\n",
      "mse between pred and ground_truth:  8.241691052249094e-14\n",
      "pred_ref:  [[0.45611122]\n",
      " [0.4178428 ]\n",
      " [0.42803708]\n",
      " ...\n",
      " [0.3367453 ]\n",
      " [0.53599   ]\n",
      " [0.5087108 ]]\n",
      "mse between pred_ref and ground_truth:  7.573986338301264e-05\n"
     ]
    },
    {
     "name": "stderr",
     "output_type": "stream",
     "text": [
      "2022-03-31 11:17:13.779336470 [W:onnxruntime:, graph.cc:3559 CleanUnusedInitializersAndNodeArgs] Removing initializer 'key_to_indice_hash_all_tables'. It is not used by any node and should be removed from the model.\n"
     ]
    }
   ],
   "source": [
    "from hugectr.inference import HPS, ParameterServerConfig, InferenceParams\n",
    "\n",
    "import pandas as pd\n",
    "import numpy as np\n",
    "\n",
    "import onnxruntime as ort\n",
    "\n",
    "slot_size_array = [10000, 10000, 10000, 10000]\n",
    "key_offset = np.insert(np.cumsum(slot_size_array), 0, 0)[:-1]\n",
    "batch_size = 1024\n",
    "\n",
    "# 1. Configure the HPS hyperparameters\n",
    "ps_config = ParameterServerConfig(\n",
    "           emb_table_name = {\"hps_demo\": [\"sparse_embedding1\", \"sparse_embedding2\"]},\n",
    "           embedding_vec_size = {\"hps_demo\": [16, 32]},\n",
    "           max_feature_num_per_sample_per_emb_table = {\"hps_demo\": [2, 2]},\n",
    "           inference_params_array = [\n",
    "              InferenceParams(\n",
    "                model_name = \"hps_demo\",\n",
    "                max_batchsize = batch_size,\n",
    "                hit_rate_threshold = 1.0,\n",
    "                dense_model_file = \"\",\n",
    "                sparse_model_files = [\"hps_demo0_sparse_1000.model\", \"hps_demo1_sparse_1000.model\"],\n",
    "                deployed_devices = [0],\n",
    "                use_gpu_embedding_cache = True,\n",
    "                cache_size_percentage = 0.5,\n",
    "                i64_input_key = True)\n",
    "           ])\n",
    "\n",
    "# 2. Initialize the HPS object\n",
    "hps = HPS(ps_config)\n",
    "\n",
    "# 3. Loading the Parquet data.\n",
    "df = pd.read_parquet(\"data_parquet/val/gen_0.parquet\")\n",
    "dense_input_columns = df.columns[1:11]\n",
    "cat_input1_columns = df.columns[11:13]\n",
    "cat_input2_columns = df.columns[13:15]\n",
    "dense_input = df[dense_input_columns].loc[0:batch_size-1].to_numpy(dtype=np.float32)\n",
    "cat_input1 = (df[cat_input1_columns].loc[0:batch_size-1].to_numpy(dtype=np.int64) + key_offset[0:2]).reshape((batch_size, 2, 1))\n",
    "cat_input2 = (df[cat_input2_columns].loc[0:batch_size-1].to_numpy(dtype=np.int64) + key_offset[2:4]).reshape((batch_size, 2, 1))\n",
    "\n",
    "# 4. Make inference from the HPS object and the ONNX inference session of `hps_demo_without_embedding.onnx`.\n",
    "\n",
    "ptr1 = torch.zeros(batch_size* 2* 16).data_ptr()\n",
    "ptr2 = torch.zeros(batch_size* 2* 32).data_ptr()\n",
    "embedding1 = hps.lookup(cat_input1.flatten(), \"hps_demo\", 0,ptr1).reshape(batch_size, 2, 16)\n",
    "embedding2 = hps.lookup(cat_input2.flatten(), \"hps_demo\", 1,ptr2).reshape(batch_size, 2, 32)\n",
    "# sess = ort.InferenceSession(\"hps_demo_without_embedding.onnx\")\n",
    "# res = sess.run(output_names=[sess.get_outputs()[0].name],\n",
    "#                input_feed={sess.get_inputs()[0].name: dense_input,\n",
    "#                sess.get_inputs()[1].name: embedding1,\n",
    "#                sess.get_inputs()[2].name: embedding2})\n",
    "# pred = res[0]\n",
    "\n",
    "# # 5. Check the correctness by comparing with dumped evaluation results.\n",
    "# ground_truth = np.loadtxt(\"hps_demo_pred_1000\")\n",
    "# print(\"ground_truth: \", ground_truth)\n",
    "# diff = pred.flatten()-ground_truth\n",
    "# mse = np.mean(diff*diff)\n",
    "# print(\"pred: \", pred)\n",
    "# print(\"mse between pred and ground_truth: \", mse)\n",
    "\n",
    "# # 6. Make inference with the ONNX inference session of `hps_demo_with_embedding.onnx` (double check).\n",
    "# sess_ref = ort.InferenceSession(\"hps_demo_with_embedding.onnx\")\n",
    "# res_ref = sess_ref.run(output_names=[sess_ref.get_outputs()[0].name],\n",
    "#                    input_feed={sess_ref.get_inputs()[0].name: dense_input,\n",
    "#                    sess_ref.get_inputs()[1].name: cat_input1,\n",
    "#                    sess_ref.get_inputs()[2].name: cat_input2})\n",
    "# pred_ref = res_ref[0]\n",
    "# diff_ref = pred_ref.flatten()-ground_truth\n",
    "# mse_ref = np.mean(diff_ref*diff_ref)\n",
    "# print(\"pred_ref: \", pred_ref)\n",
    "# print(\"mse between pred_ref and ground_truth: \", mse_ref)"
   ]
  }
 ],
 "metadata": {
  "kernelspec": {
   "display_name": "Python 3",
   "language": "python",
   "name": "python3"
  },
  "language_info": {
   "codemirror_mode": {
    "name": "ipython",
    "version": 3
   },
   "file_extension": ".py",
   "mimetype": "text/x-python",
   "name": "python",
   "nbconvert_exporter": "python",
   "pygments_lexer": "ipython3",
   "version": "3.8.8"
  }
 },
 "nbformat": 4,
 "nbformat_minor": 5
}
